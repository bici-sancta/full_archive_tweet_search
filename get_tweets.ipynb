{
 "cells": [
  {
   "cell_type": "markdown",
   "metadata": {},
   "source": [
    "\n",
    "-=-=-=-=-=-=-=-=-=-=-=-=-=-=-=-=-=-=-=-=-=-=-=-=-=-=-=-=-=-=-=-=-=-=-=-=-=-\n",
    "\n",
    "### Starter kit for extracting tweets from full-archive sandbox\n",
    "\n",
    "#### bici.sancta\n",
    "#### 28-aug-2018\n",
    "\n",
    "\n",
    "Starting point for this code came from :\n",
    "\n",
    "http://benalexkeen.com/interacting-with-the-twitter-api-using-python/\n",
    "\n",
    "-=-=-=-=-=-=-=-=-=-=-=-=-=-=-=-=-=-=-=-=-=-=-=-=-=-=-=-=-=-=-=-=-=-=-=-=-=-\n"
   ]
  },
  {
   "cell_type": "code",
   "execution_count": null,
   "metadata": {
    "collapsed": true
   },
   "outputs": [],
   "source": [
    "from IPython.core.interactiveshell import InteractiveShell\n",
    "InteractiveShell.ast_node_interactivity = \"all\""
   ]
  },
  {
   "cell_type": "code",
   "execution_count": null,
   "metadata": {
    "collapsed": true
   },
   "outputs": [],
   "source": [
    "client_key = 'ZRNU_your_client_key_here_MTtQ'\n",
    "client_secret = 'AypUF_your_secret_client_key_here_xJI8'"
   ]
  },
  {
   "cell_type": "code",
   "execution_count": null,
   "metadata": {
    "collapsed": true
   },
   "outputs": [],
   "source": [
    "import base64\n",
    "import json\n",
    "import requests"
   ]
  },
  {
   "cell_type": "code",
   "execution_count": null,
   "metadata": {
    "collapsed": true
   },
   "outputs": [],
   "source": [
    "key_secret = '{}:{}'.format(client_key, client_secret).encode('ascii')\n",
    "b64_encoded_key = base64.b64encode(key_secret)\n",
    "b64_encoded_key = b64_encoded_key.decode('ascii')\n",
    "\n",
    "\n",
    "base_url = 'https://api.twitter.com/'\n",
    "auth_url = '{}oauth2/token'.format(base_url)\n",
    "\n",
    "auth_headers = {\n",
    "    'Authorization': 'Basic {}'.format(b64_encoded_key),\n",
    "    'Content-Type': 'application/x-www-form-urlencoded;charset=UTF-8'\n",
    "}\n",
    "\n",
    "auth_data = {\n",
    "    'grant_type': 'client_credentials'\n",
    "}\n",
    "\n",
    "auth_resp = requests.post(auth_url, headers=auth_headers, data=auth_data)\n",
    "\n",
    "print(\"auth_resp.status_code = : \", auth_resp.status_code)\n",
    "\n",
    "# Keys in data response are token_type (bearer) and access_token (your access token)\n",
    "auth_resp.json().keys()\n",
    "\n",
    "access_token = auth_resp.json()['access_token']\n",
    "\n",
    "#print('access_token = : ', access_token)\n",
    "\n",
    "search_headers = {\n",
    "    'Authorization': 'Bearer {}'.format(access_token)    \n",
    "}"
   ]
  },
  {
   "cell_type": "code",
   "execution_count": null,
   "metadata": {
    "scrolled": true
   },
   "outputs": [],
   "source": [
    "# ... find tweets by geolocation origin and date range (only)\n",
    "# ... ---> point_radius seems to need to be <= 25mi or returns status code = 422\n",
    "\n",
    "search_params = {\n",
    "    'query': 'point_radius:[-84.512016 39.103119 25mi]',\n",
    "    'fromDate': '201808010000',\n",
    "    'toDate': '201808240259',\n",
    "    'maxResults' : '100'\n",
    "}\n",
    "\n",
    "search_url = '{}1.1/tweets/search/fullarchive/fullSearchSandbox.json'.format(base_url)\n",
    "\n",
    "print('search_url = ', search_url)\n",
    "print('\\n')\n",
    "print('search_params = ', search_params)\n",
    "\n",
    "search_resp = requests.get(search_url, headers = search_headers, params = search_params)\n",
    "\n",
    "print(\"search_resp.status_code = : \", search_resp.status_code)\n",
    "\n",
    "tweet_data = search_resp.json()\n",
    "\n",
    "# ... tweet_data\n",
    "\n",
    "#tweet_data"
   ]
  },
  {
   "cell_type": "code",
   "execution_count": null,
   "metadata": {
    "scrolled": false
   },
   "outputs": [],
   "source": [
    "type(tweet_data)\n",
    "\n",
    "type(tweet_data['results'])\n",
    "\n",
    "len(tweet_data['results'])"
   ]
  },
  {
   "cell_type": "code",
   "execution_count": null,
   "metadata": {
    "scrolled": true
   },
   "outputs": [],
   "source": [
    "for ii in range(len(tweet_data['results'])):\n",
    "    print(ii)\n",
    "    print(tweet_data['results'][ii])\n",
    "    print(type(tweet_data['results'][ii]))\n",
    "    \n",
    "    i = 0\n",
    "    for keys,values in tweet_data['results'][ii].items():\n",
    "        print(i)\n",
    "        print(\"key = : |\", keys, \"|\", type(values))\n",
    "        print(values)\n",
    "        i += 1\n",
    "    "
   ]
  },
  {
   "cell_type": "markdown",
   "metadata": {},
   "source": [
    "### Print out list of keys"
   ]
  },
  {
   "cell_type": "code",
   "execution_count": null,
   "metadata": {},
   "outputs": [],
   "source": [
    "for ii in range(len(tweet_data['results'])):\n",
    "    for keys,values in tweet_data['results'][ii].items():\n",
    "        print(keys)\n"
   ]
  },
  {
   "cell_type": "markdown",
   "metadata": {},
   "source": [
    "### Some dates and text fields (print full text if truncated)"
   ]
  },
  {
   "cell_type": "code",
   "execution_count": null,
   "metadata": {
    "scrolled": true
   },
   "outputs": [],
   "source": [
    "date_key = \"created_at\"\n",
    "text_key = \"text\"\n",
    "truncated_key = \"truncated\"\n",
    "extended_tweet_key = \"extended_tweet\"\n",
    "\n",
    "for ii in range(len(tweet_data['results'])):\n",
    "    for keys,values in tweet_data['results'][ii].items():\n",
    "        if keys == date_key:\n",
    "            print(tweet_data['results'][ii][date_key])\n",
    "        if keys == text_key:\n",
    "            print(tweet_data['results'][ii][text_key])\n",
    "            print(\"\\n\")\n",
    "        if keys == truncated_key:\n",
    "            print(tweet_data['results'][ii][truncated_key])\n",
    "            print(\"\\n\")\n",
    "        if keys == extended_tweet_key:\n",
    "            print(tweet_data['results'][ii][extended_tweet_key]['full_text'])\n",
    "            print(\"\\n\")\n"
   ]
  },
  {
   "cell_type": "markdown",
   "metadata": {},
   "source": [
    "### if paginated ... continue to next page, using 'next' value from first return\n",
    "\n",
    "append next key, value pair to __search_params__ _dict_"
   ]
  },
  {
   "cell_type": "code",
   "execution_count": null,
   "metadata": {},
   "outputs": [],
   "source": [
    "\n",
    "next_key = \"next\"\n",
    "\n",
    "if tweet_data[next_key]:\n",
    "    print(tweet_data[next_key])\n",
    "     \n",
    "    search_params['next'] = tweet_data[next_key]\n",
    "        \n",
    "    search_url = '{}1.1/tweets/search/fullarchive/fullSearchSandbox.json'.format(base_url)\n",
    "\n",
    "    print('search_url = ', search_url)\n",
    "    print('\\n')\n",
    "    print('search_params = ', search_params)\n",
    "\n",
    "    search_resp = requests.get(search_url, headers = search_headers, params = search_params)\n",
    "\n",
    "    print(\"search_resp.status_code = : \", search_resp.status_code)\n",
    "\n",
    "    tweet_data = search_resp.json()\n",
    "    # ... tweet_data\n",
    "    for ii in range(len(tweet_data['results'])):\n",
    "        for keys,values in tweet_data['results'][ii].items():\n",
    "            if keys == date_key:\n",
    "                print(tweet_data['results'][ii][date_key])\n",
    "            if keys == text_key:\n",
    "                print(tweet_data['results'][ii][text_key])\n",
    "                print(\"\\n\")\n",
    "            if keys == truncated_key:\n",
    "                print(tweet_data['results'][ii][truncated_key])\n",
    "                print(\"\\n\")\n",
    "            if keys == extended_tweet_key:\n",
    "                print(tweet_data['results'][ii][extended_tweet_key]['full_text'])\n",
    "                print(\"\\n\")\n",
    "    \n",
    "\n"
   ]
  },
  {
   "cell_type": "code",
   "execution_count": null,
   "metadata": {
    "collapsed": true
   },
   "outputs": [],
   "source": []
  }
 ],
 "metadata": {
  "kernelspec": {
   "display_name": "Python 2",
   "language": "python",
   "name": "python2"
  },
  "language_info": {
   "codemirror_mode": {
    "name": "ipython",
    "version": 3
   },
   "file_extension": ".py",
   "mimetype": "text/x-python",
   "name": "python",
   "nbconvert_exporter": "python",
   "pygments_lexer": "ipython3",
   "version": "3.6.1"
  }
 },
 "nbformat": 4,
 "nbformat_minor": 2
}
